{
  "nbformat": 4,
  "nbformat_minor": 0,
  "metadata": {
    "colab": {
      "name": "spark_dataframe_covid_positivity_rate.ipynb",
      "provenance": [],
      "authorship_tag": "ABX9TyOE0FQfgaU5Kuafy8Rl25uH",
      "include_colab_link": true
    },
    "kernelspec": {
      "name": "python3",
      "display_name": "Python 3"
    },
    "language_info": {
      "name": "python"
    }
  },
  "cells": [
    {
      "cell_type": "markdown",
      "metadata": {
        "id": "view-in-github",
        "colab_type": "text"
      },
      "source": [
        "<a href=\"https://colab.research.google.com/github/kajalpani/PySpark_work/blob/main/spark_dataframe_covid_positivity_rate.ipynb\" target=\"_parent\"><img src=\"https://colab.research.google.com/assets/colab-badge.svg\" alt=\"Open In Colab\"/></a>"
      ]
    },
    {
      "cell_type": "code",
      "execution_count": 1,
      "metadata": {
        "id": "bYVSzWIuwOZw"
      },
      "outputs": [],
      "source": [
        "!apt-get install openjdk-8-jdk-headless -qq > /dev/null\n",
        "!wget -q http://archive.apache.org/dist/spark/spark-3.1.1/spark-3.1.1-bin-hadoop3.2.tgz\n",
        "!tar xf spark-3.1.1-bin-hadoop3.2.tgz\n",
        "!pip install -q findspark"
      ]
    },
    {
      "cell_type": "code",
      "source": [
        "import os\n",
        "os.environ[\"JAVA_HOME\"] = \"/usr/lib/jvm/java-8-openjdk-amd64\"\n",
        "os.environ[\"SPARK_HOME\"] = \"/content/spark-3.1.1-bin-hadoop3.2\""
      ],
      "metadata": {
        "id": "YHRBoNSwwZG0"
      },
      "execution_count": 2,
      "outputs": []
    },
    {
      "cell_type": "code",
      "source": [
        "import findspark\n",
        "findspark.init()\n",
        "from pyspark.sql import SparkSession\n",
        "spark = SparkSession.builder.master(\"local[*]\").getOrCreate()\n",
        "spark.conf.set(\"spark.sql.repl.eagerEval.enabled\", True) # Property used to format output tables better\n",
        "spark"
      ],
      "metadata": {
        "colab": {
          "base_uri": "https://localhost:8080/",
          "height": 221
        },
        "id": "tEx30OJRwbPo",
        "outputId": "44847738-5ea8-4b07-8125-db092db5f98e"
      },
      "execution_count": 3,
      "outputs": [
        {
          "output_type": "execute_result",
          "data": {
            "text/plain": [
              "<pyspark.sql.session.SparkSession at 0x7fddb3e29050>"
            ],
            "text/html": [
              "\n",
              "            <div>\n",
              "                <p><b>SparkSession - in-memory</b></p>\n",
              "                \n",
              "        <div>\n",
              "            <p><b>SparkContext</b></p>\n",
              "\n",
              "            <p><a href=\"http://e300fa81f791:4040\">Spark UI</a></p>\n",
              "\n",
              "            <dl>\n",
              "              <dt>Version</dt>\n",
              "                <dd><code>v3.1.1</code></dd>\n",
              "              <dt>Master</dt>\n",
              "                <dd><code>local[*]</code></dd>\n",
              "              <dt>AppName</dt>\n",
              "                <dd><code>pyspark-shell</code></dd>\n",
              "            </dl>\n",
              "        </div>\n",
              "        \n",
              "            </div>\n",
              "        "
            ]
          },
          "metadata": {},
          "execution_count": 3
        }
      ]
    },
    {
      "cell_type": "code",
      "source": [
        "%%sh\n",
        "unzip us-counties.csv.zip"
      ],
      "metadata": {
        "colab": {
          "base_uri": "https://localhost:8080/"
        },
        "id": "1WsAHeTPK8Q6",
        "outputId": "6f363a23-06ad-4579-df39-a869ff478b1c"
      },
      "execution_count": 21,
      "outputs": [
        {
          "output_type": "stream",
          "name": "stdout",
          "text": [
            "Archive:  us-counties.csv.zip\n",
            "  inflating: us-counties.csv         \n"
          ]
        }
      ]
    },
    {
      "cell_type": "code",
      "source": [
        "%%sh\n",
        "head us-counties.csv"
      ],
      "metadata": {
        "colab": {
          "base_uri": "https://localhost:8080/"
        },
        "id": "2_tiXXEtO3Eh",
        "outputId": "6f53e859-1efc-463a-8aaa-6d96269dc270"
      },
      "execution_count": 22,
      "outputs": [
        {
          "output_type": "stream",
          "name": "stdout",
          "text": [
            "date,county,state,fips,cases,deaths\n",
            "2020-01-21,Snohomish,Washington,53061,1,0\n",
            "2020-01-22,Snohomish,Washington,53061,1,0\n",
            "2020-01-23,Snohomish,Washington,53061,1,0\n",
            "2020-01-24,Cook,Illinois,17031,1,0\n",
            "2020-01-24,Snohomish,Washington,53061,1,0\n",
            "2020-01-25,Orange,California,06059,1,0\n",
            "2020-01-25,Cook,Illinois,17031,1,0\n",
            "2020-01-25,Snohomish,Washington,53061,1,0\n",
            "2020-01-26,Maricopa,Arizona,04013,1,0\n"
          ]
        }
      ]
    },
    {
      "cell_type": "code",
      "source": [
        "covid_df = spark.read.csv('us-counties.csv', header=True, inferSchema=True)\n",
        "covid_df"
      ],
      "metadata": {
        "colab": {
          "base_uri": "https://localhost:8080/",
          "height": 529
        },
        "id": "NuRaNI5JPAQD",
        "outputId": "1fd3ad7b-4435-40b6-a872-46375511dc26"
      },
      "execution_count": 24,
      "outputs": [
        {
          "output_type": "execute_result",
          "data": {
            "text/plain": [
              "+----------+-----------+----------+-----+-----+------+\n",
              "|      date|     county|     state| fips|cases|deaths|\n",
              "+----------+-----------+----------+-----+-----+------+\n",
              "|2020-01-21|  Snohomish|Washington|53061|    1|     0|\n",
              "|2020-01-22|  Snohomish|Washington|53061|    1|     0|\n",
              "|2020-01-23|  Snohomish|Washington|53061|    1|     0|\n",
              "|2020-01-24|       Cook|  Illinois|17031|    1|     0|\n",
              "|2020-01-24|  Snohomish|Washington|53061|    1|     0|\n",
              "|2020-01-25|     Orange|California| 6059|    1|     0|\n",
              "|2020-01-25|       Cook|  Illinois|17031|    1|     0|\n",
              "|2020-01-25|  Snohomish|Washington|53061|    1|     0|\n",
              "|2020-01-26|   Maricopa|   Arizona| 4013|    1|     0|\n",
              "|2020-01-26|Los Angeles|California| 6037|    1|     0|\n",
              "|2020-01-26|     Orange|California| 6059|    1|     0|\n",
              "|2020-01-26|       Cook|  Illinois|17031|    1|     0|\n",
              "|2020-01-26|  Snohomish|Washington|53061|    1|     0|\n",
              "|2020-01-27|   Maricopa|   Arizona| 4013|    1|     0|\n",
              "|2020-01-27|Los Angeles|California| 6037|    1|     0|\n",
              "|2020-01-27|     Orange|California| 6059|    1|     0|\n",
              "|2020-01-27|       Cook|  Illinois|17031|    1|     0|\n",
              "|2020-01-27|  Snohomish|Washington|53061|    1|     0|\n",
              "|2020-01-28|   Maricopa|   Arizona| 4013|    1|     0|\n",
              "|2020-01-28|Los Angeles|California| 6037|    1|     0|\n",
              "+----------+-----------+----------+-----+-----+------+\n",
              "only showing top 20 rows"
            ],
            "text/html": [
              "<table border='1'>\n",
              "<tr><th>date</th><th>county</th><th>state</th><th>fips</th><th>cases</th><th>deaths</th></tr>\n",
              "<tr><td>2020-01-21</td><td>Snohomish</td><td>Washington</td><td>53061</td><td>1</td><td>0</td></tr>\n",
              "<tr><td>2020-01-22</td><td>Snohomish</td><td>Washington</td><td>53061</td><td>1</td><td>0</td></tr>\n",
              "<tr><td>2020-01-23</td><td>Snohomish</td><td>Washington</td><td>53061</td><td>1</td><td>0</td></tr>\n",
              "<tr><td>2020-01-24</td><td>Cook</td><td>Illinois</td><td>17031</td><td>1</td><td>0</td></tr>\n",
              "<tr><td>2020-01-24</td><td>Snohomish</td><td>Washington</td><td>53061</td><td>1</td><td>0</td></tr>\n",
              "<tr><td>2020-01-25</td><td>Orange</td><td>California</td><td>6059</td><td>1</td><td>0</td></tr>\n",
              "<tr><td>2020-01-25</td><td>Cook</td><td>Illinois</td><td>17031</td><td>1</td><td>0</td></tr>\n",
              "<tr><td>2020-01-25</td><td>Snohomish</td><td>Washington</td><td>53061</td><td>1</td><td>0</td></tr>\n",
              "<tr><td>2020-01-26</td><td>Maricopa</td><td>Arizona</td><td>4013</td><td>1</td><td>0</td></tr>\n",
              "<tr><td>2020-01-26</td><td>Los Angeles</td><td>California</td><td>6037</td><td>1</td><td>0</td></tr>\n",
              "<tr><td>2020-01-26</td><td>Orange</td><td>California</td><td>6059</td><td>1</td><td>0</td></tr>\n",
              "<tr><td>2020-01-26</td><td>Cook</td><td>Illinois</td><td>17031</td><td>1</td><td>0</td></tr>\n",
              "<tr><td>2020-01-26</td><td>Snohomish</td><td>Washington</td><td>53061</td><td>1</td><td>0</td></tr>\n",
              "<tr><td>2020-01-27</td><td>Maricopa</td><td>Arizona</td><td>4013</td><td>1</td><td>0</td></tr>\n",
              "<tr><td>2020-01-27</td><td>Los Angeles</td><td>California</td><td>6037</td><td>1</td><td>0</td></tr>\n",
              "<tr><td>2020-01-27</td><td>Orange</td><td>California</td><td>6059</td><td>1</td><td>0</td></tr>\n",
              "<tr><td>2020-01-27</td><td>Cook</td><td>Illinois</td><td>17031</td><td>1</td><td>0</td></tr>\n",
              "<tr><td>2020-01-27</td><td>Snohomish</td><td>Washington</td><td>53061</td><td>1</td><td>0</td></tr>\n",
              "<tr><td>2020-01-28</td><td>Maricopa</td><td>Arizona</td><td>4013</td><td>1</td><td>0</td></tr>\n",
              "<tr><td>2020-01-28</td><td>Los Angeles</td><td>California</td><td>6037</td><td>1</td><td>0</td></tr>\n",
              "</table>\n",
              "only showing top 20 rows\n"
            ]
          },
          "metadata": {},
          "execution_count": 24
        }
      ]
    },
    {
      "cell_type": "code",
      "source": [
        "covid_df.filter(covid_df.cases > 1).limit(5)"
      ],
      "metadata": {
        "colab": {
          "base_uri": "https://localhost:8080/",
          "height": 161
        },
        "id": "5Nd_wfG9PAcg",
        "outputId": "df1e8bcf-c913-46ec-9ca8-08b4fd3dc8fd"
      },
      "execution_count": 32,
      "outputs": [
        {
          "output_type": "execute_result",
          "data": {
            "text/plain": [
              "+----------+-------------+----------+-----+-----+------+\n",
              "|      date|       county|     state| fips|cases|deaths|\n",
              "+----------+-------------+----------+-----+-----+------+\n",
              "|2020-01-30|         Cook|  Illinois|17031|    2|     0|\n",
              "|2020-01-31|         Cook|  Illinois|17031|    2|     0|\n",
              "|2020-02-01|         Cook|  Illinois|17031|    2|     0|\n",
              "|2020-02-02|San Francisco|California| 6075|    2|     0|\n",
              "|2020-02-02|  Santa Clara|California| 6085|    2|     0|\n",
              "+----------+-------------+----------+-----+-----+------+"
            ],
            "text/html": [
              "<table border='1'>\n",
              "<tr><th>date</th><th>county</th><th>state</th><th>fips</th><th>cases</th><th>deaths</th></tr>\n",
              "<tr><td>2020-01-30</td><td>Cook</td><td>Illinois</td><td>17031</td><td>2</td><td>0</td></tr>\n",
              "<tr><td>2020-01-31</td><td>Cook</td><td>Illinois</td><td>17031</td><td>2</td><td>0</td></tr>\n",
              "<tr><td>2020-02-01</td><td>Cook</td><td>Illinois</td><td>17031</td><td>2</td><td>0</td></tr>\n",
              "<tr><td>2020-02-02</td><td>San Francisco</td><td>California</td><td>6075</td><td>2</td><td>0</td></tr>\n",
              "<tr><td>2020-02-02</td><td>Santa Clara</td><td>California</td><td>6085</td><td>2</td><td>0</td></tr>\n",
              "</table>\n"
            ]
          },
          "metadata": {},
          "execution_count": 32
        }
      ]
    },
    {
      "cell_type": "markdown",
      "source": [
        "Find out which US State had maximum number of cases on 2020"
      ],
      "metadata": {
        "id": "duv4TaLTVNa3"
      }
    },
    {
      "cell_type": "code",
      "source": [
        "covid_df.createOrReplaceTempView('covid_us')\n",
        "spark.sql('select count(cases), state from covid_us where cases > 1  and substring(date,1,4) == \"2020\" group by state order by count(cases) DESC')"
      ],
      "metadata": {
        "colab": {
          "base_uri": "https://localhost:8080/",
          "height": 529
        },
        "id": "kGF_SKUiREtL",
        "outputId": "3fcec1a0-92cc-4119-ee51-62b3a3454ec8"
      },
      "execution_count": 51,
      "outputs": [
        {
          "output_type": "execute_result",
          "data": {
            "text/plain": [
              "+------------+--------------+\n",
              "|count(cases)|         state|\n",
              "+------------+--------------+\n",
              "|       64449|         Texas|\n",
              "|       44618|       Georgia|\n",
              "|       36260|      Virginia|\n",
              "|       31698|      Kentucky|\n",
              "|       30275|      Missouri|\n",
              "|       27637|North Carolina|\n",
              "|       27295|      Illinois|\n",
              "|       26476|     Tennessee|\n",
              "|       26362|          Iowa|\n",
              "|       25654|       Indiana|\n",
              "|       25449|        Kansas|\n",
              "|       24558|          Ohio|\n",
              "|       23115|     Minnesota|\n",
              "|       23033|   Mississippi|\n",
              "|       22856|      Michigan|\n",
              "|       20959|      Nebraska|\n",
              "|       20430|      Arkansas|\n",
              "|       20206|      Oklahoma|\n",
              "|       19574|     Wisconsin|\n",
              "|       19172|       Florida|\n",
              "+------------+--------------+\n",
              "only showing top 20 rows"
            ],
            "text/html": [
              "<table border='1'>\n",
              "<tr><th>count(cases)</th><th>state</th></tr>\n",
              "<tr><td>64449</td><td>Texas</td></tr>\n",
              "<tr><td>44618</td><td>Georgia</td></tr>\n",
              "<tr><td>36260</td><td>Virginia</td></tr>\n",
              "<tr><td>31698</td><td>Kentucky</td></tr>\n",
              "<tr><td>30275</td><td>Missouri</td></tr>\n",
              "<tr><td>27637</td><td>North Carolina</td></tr>\n",
              "<tr><td>27295</td><td>Illinois</td></tr>\n",
              "<tr><td>26476</td><td>Tennessee</td></tr>\n",
              "<tr><td>26362</td><td>Iowa</td></tr>\n",
              "<tr><td>25654</td><td>Indiana</td></tr>\n",
              "<tr><td>25449</td><td>Kansas</td></tr>\n",
              "<tr><td>24558</td><td>Ohio</td></tr>\n",
              "<tr><td>23115</td><td>Minnesota</td></tr>\n",
              "<tr><td>23033</td><td>Mississippi</td></tr>\n",
              "<tr><td>22856</td><td>Michigan</td></tr>\n",
              "<tr><td>20959</td><td>Nebraska</td></tr>\n",
              "<tr><td>20430</td><td>Arkansas</td></tr>\n",
              "<tr><td>20206</td><td>Oklahoma</td></tr>\n",
              "<tr><td>19574</td><td>Wisconsin</td></tr>\n",
              "<tr><td>19172</td><td>Florida</td></tr>\n",
              "</table>\n",
              "only showing top 20 rows\n"
            ]
          },
          "metadata": {},
          "execution_count": 51
        }
      ]
    }
  ]
}