{
  "nbformat": 4,
  "nbformat_minor": 0,
  "metadata": {
    "colab": {
      "name": "spark_dataframe_titanic.ipynb",
      "provenance": [],
      "authorship_tag": "ABX9TyMgcBSQnEuXHZS8UfVT3ZUU",
      "include_colab_link": true
    },
    "kernelspec": {
      "name": "python3",
      "display_name": "Python 3"
    },
    "language_info": {
      "name": "python"
    }
  },
  "cells": [
    {
      "cell_type": "markdown",
      "metadata": {
        "id": "view-in-github",
        "colab_type": "text"
      },
      "source": [
        "<a href=\"https://colab.research.google.com/github/kajalpani/PySpark_work/blob/main/spark_dataframe_titanic.ipynb\" target=\"_parent\"><img src=\"https://colab.research.google.com/assets/colab-badge.svg\" alt=\"Open In Colab\"/></a>"
      ]
    },
    {
      "cell_type": "code",
      "execution_count": 1,
      "metadata": {
        "id": "nbt0tpg8mIjL"
      },
      "outputs": [],
      "source": [
        "!apt-get install openjdk-8-jdk-headless -qq > /dev/null\n",
        "!wget -q http://archive.apache.org/dist/spark/spark-3.1.1/spark-3.1.1-bin-hadoop3.2.tgz\n",
        "!tar xf spark-3.1.1-bin-hadoop3.2.tgz\n",
        "!pip install -q findspark"
      ]
    },
    {
      "cell_type": "code",
      "source": [
        "import os\n",
        "os.environ[\"JAVA_HOME\"] = \"/usr/lib/jvm/java-8-openjdk-amd64\"\n",
        "os.environ[\"SPARK_HOME\"] = \"/content/spark-3.1.1-bin-hadoop3.2\""
      ],
      "metadata": {
        "id": "Qgycr48Km2eY"
      },
      "execution_count": 2,
      "outputs": []
    },
    {
      "cell_type": "code",
      "source": [
        "import findspark\n",
        "findspark.init()\n",
        "from pyspark.sql import SparkSession\n",
        "spark = SparkSession.builder.master(\"local[*]\").getOrCreate()\n",
        "spark.conf.set(\"spark.sql.repl.eagerEval.enabled\", True) # Property used to format output tables better\n",
        "spark"
      ],
      "metadata": {
        "colab": {
          "base_uri": "https://localhost:8080/",
          "height": 221
        },
        "id": "q9C57pf4m7Xt",
        "outputId": "eb46ebf5-4406-4465-8798-14aa35139a8d"
      },
      "execution_count": 3,
      "outputs": [
        {
          "output_type": "execute_result",
          "data": {
            "text/plain": [
              "<pyspark.sql.session.SparkSession at 0x7f7fde527e10>"
            ],
            "text/html": [
              "\n",
              "            <div>\n",
              "                <p><b>SparkSession - in-memory</b></p>\n",
              "                \n",
              "        <div>\n",
              "            <p><b>SparkContext</b></p>\n",
              "\n",
              "            <p><a href=\"http://15d50aa0f52b:4040\">Spark UI</a></p>\n",
              "\n",
              "            <dl>\n",
              "              <dt>Version</dt>\n",
              "                <dd><code>v3.1.1</code></dd>\n",
              "              <dt>Master</dt>\n",
              "                <dd><code>local[*]</code></dd>\n",
              "              <dt>AppName</dt>\n",
              "                <dd><code>pyspark-shell</code></dd>\n",
              "            </dl>\n",
              "        </div>\n",
              "        \n",
              "            </div>\n",
              "        "
            ]
          },
          "metadata": {},
          "execution_count": 3
        }
      ]
    },
    {
      "cell_type": "code",
      "source": [
        "titanic_df = spark.read.csv('titanic_train.csv', header = True, inferSchema=True)\n",
        "titanic_df"
      ],
      "metadata": {
        "colab": {
          "base_uri": "https://localhost:8080/",
          "height": 529
        },
        "id": "ouhoMwmSnJnc",
        "outputId": "386ec0cb-5966-478d-f50d-4088138575b6"
      },
      "execution_count": 8,
      "outputs": [
        {
          "output_type": "execute_result",
          "data": {
            "text/plain": [
              "+------------+------+--------------------+------+----+-----+-----+---------+-------+-----+--------+----+-----+--------------------+--------+\n",
              "|passenger_id|pclass|                name|   sex| age|sibsp|parch|   ticket|   fare|cabin|embarked|boat| body|           home.dest|survived|\n",
              "+------------+------+--------------------+------+----+-----+-----+---------+-------+-----+--------+----+-----+--------------------+--------+\n",
              "|        1216|     3|  Smyth, Miss. Julia|female|null|    0|    0|   335432| 7.7333| null|       Q|  13| null|                null|       1|\n",
              "|         699|     3|     Cacic, Mr. Luka|  male|38.0|    0|    0|   315089| 8.6625| null|       S|null| null|             Croatia|       0|\n",
              "|        1267|     3|Van Impe, Mrs. Je...|female|30.0|    1|    1|   345773|  24.15| null|       S|null| null|                null|       0|\n",
              "|         449|     2|Hocking, Mrs. Eli...|female|54.0|    1|    3|    29105|   23.0| null|       S|   4| null|Cornwall / Akron, OH|       1|\n",
              "|         576|     2|     Veal, Mr. James|  male|40.0|    0|    0|    28221|   13.0| null|       S|null| null|Barre, Co Washing...|       0|\n",
              "|        1083|     3|Olsen, Mr. Henry ...|  male|28.0|    0|    0|   C 4001| 22.525| null|       S|null|173.0|                null|       0|\n",
              "|         898|     3|Johnson, Mr. Will...|  male|19.0|    0|    0|     LINE|    0.0| null|       S|null| null|                null|       0|\n",
              "|         560|     2|Sinkkonen, Miss. ...|female|30.0|    0|    0|   250648|   13.0| null|       S|  10| null|Finland / Washing...|       1|\n",
              "|        1079|     3|  Ohman, Miss. Velin|female|22.0|    0|    0|   347085|  7.775| null|       S|   C| null|                null|       1|\n",
              "|         908|     3|Jussila, Miss. Ma...|female|21.0|    1|    0|     4137|  9.825| null|       S|null| null|                null|       0|\n",
              "|         313|     1|Widener, Mr. Harr...|  male|27.0|    0|    2|   113503|  211.5|  C82|       C|null| null|     Elkins Park, PA|       0|\n",
              "|          43|     1|Bucknell, Mrs. Wi...|female|60.0|    0|    0|    11813|76.2917|  D15|       C|   8| null|    Philadelphia, PA|       1|\n",
              "|         233|     1|Potter, Mrs. Thom...|female|56.0|    0|    1|    11767|83.1583|  C50|       C|   7| null|Mt Airy, Philadel...|       1|\n",
              "|         446|     2|\"Hocking, Miss. E...|female|20.0|    2|    1|    29105|   23.0| null|       S|   4| null|Cornwall / Akron, OH|       1|\n",
              "|         602|     3|Abbott, Mr. Rossm...|  male|16.0|    1|    1|C.A. 2673|  20.25| null|       S|null|190.0| East Providence, RI|       0|\n",
              "|         884|     3|Jensen, Mr. Niels...|  male|48.0|    0|    0|   350047| 7.8542| null|       S|null| null|                null|       0|\n",
              "|         497|     2|Maybery, Mr. Fran...|  male|40.0|    0|    0|   239059|   16.0| null|       S|null| null|Weston-Super-Mare...|       0|\n",
              "|        1003|     3|  McCoy, Mr. Bernard|  male|null|    2|    0|   367226|  23.25| null|       Q|  16| null|                null|       1|\n",
              "|          36|     1|Bowerman, Miss. E...|female|22.0|    0|    1|   113505|   55.0|  E33|       S|   6| null|St Leonards-on-Se...|       1|\n",
              "|        1088|     3|Olsson, Mr. Oscar...|  male|32.0|    0|    0|   347079|  7.775| null|       S|   A| null|                null|       1|\n",
              "+------------+------+--------------------+------+----+-----+-----+---------+-------+-----+--------+----+-----+--------------------+--------+\n",
              "only showing top 20 rows"
            ],
            "text/html": [
              "<table border='1'>\n",
              "<tr><th>passenger_id</th><th>pclass</th><th>name</th><th>sex</th><th>age</th><th>sibsp</th><th>parch</th><th>ticket</th><th>fare</th><th>cabin</th><th>embarked</th><th>boat</th><th>body</th><th>home.dest</th><th>survived</th></tr>\n",
              "<tr><td>1216</td><td>3</td><td>Smyth, Miss. Julia</td><td>female</td><td>null</td><td>0</td><td>0</td><td>335432</td><td>7.7333</td><td>null</td><td>Q</td><td>13</td><td>null</td><td>null</td><td>1</td></tr>\n",
              "<tr><td>699</td><td>3</td><td>Cacic, Mr. Luka</td><td>male</td><td>38.0</td><td>0</td><td>0</td><td>315089</td><td>8.6625</td><td>null</td><td>S</td><td>null</td><td>null</td><td>Croatia</td><td>0</td></tr>\n",
              "<tr><td>1267</td><td>3</td><td>Van Impe, Mrs. Je...</td><td>female</td><td>30.0</td><td>1</td><td>1</td><td>345773</td><td>24.15</td><td>null</td><td>S</td><td>null</td><td>null</td><td>null</td><td>0</td></tr>\n",
              "<tr><td>449</td><td>2</td><td>Hocking, Mrs. Eli...</td><td>female</td><td>54.0</td><td>1</td><td>3</td><td>29105</td><td>23.0</td><td>null</td><td>S</td><td>4</td><td>null</td><td>Cornwall / Akron, OH</td><td>1</td></tr>\n",
              "<tr><td>576</td><td>2</td><td>Veal, Mr. James</td><td>male</td><td>40.0</td><td>0</td><td>0</td><td>28221</td><td>13.0</td><td>null</td><td>S</td><td>null</td><td>null</td><td>Barre, Co Washing...</td><td>0</td></tr>\n",
              "<tr><td>1083</td><td>3</td><td>Olsen, Mr. Henry ...</td><td>male</td><td>28.0</td><td>0</td><td>0</td><td>C 4001</td><td>22.525</td><td>null</td><td>S</td><td>null</td><td>173.0</td><td>null</td><td>0</td></tr>\n",
              "<tr><td>898</td><td>3</td><td>Johnson, Mr. Will...</td><td>male</td><td>19.0</td><td>0</td><td>0</td><td>LINE</td><td>0.0</td><td>null</td><td>S</td><td>null</td><td>null</td><td>null</td><td>0</td></tr>\n",
              "<tr><td>560</td><td>2</td><td>Sinkkonen, Miss. ...</td><td>female</td><td>30.0</td><td>0</td><td>0</td><td>250648</td><td>13.0</td><td>null</td><td>S</td><td>10</td><td>null</td><td>Finland / Washing...</td><td>1</td></tr>\n",
              "<tr><td>1079</td><td>3</td><td>Ohman, Miss. Velin</td><td>female</td><td>22.0</td><td>0</td><td>0</td><td>347085</td><td>7.775</td><td>null</td><td>S</td><td>C</td><td>null</td><td>null</td><td>1</td></tr>\n",
              "<tr><td>908</td><td>3</td><td>Jussila, Miss. Ma...</td><td>female</td><td>21.0</td><td>1</td><td>0</td><td>4137</td><td>9.825</td><td>null</td><td>S</td><td>null</td><td>null</td><td>null</td><td>0</td></tr>\n",
              "<tr><td>313</td><td>1</td><td>Widener, Mr. Harr...</td><td>male</td><td>27.0</td><td>0</td><td>2</td><td>113503</td><td>211.5</td><td>C82</td><td>C</td><td>null</td><td>null</td><td>Elkins Park, PA</td><td>0</td></tr>\n",
              "<tr><td>43</td><td>1</td><td>Bucknell, Mrs. Wi...</td><td>female</td><td>60.0</td><td>0</td><td>0</td><td>11813</td><td>76.2917</td><td>D15</td><td>C</td><td>8</td><td>null</td><td>Philadelphia, PA</td><td>1</td></tr>\n",
              "<tr><td>233</td><td>1</td><td>Potter, Mrs. Thom...</td><td>female</td><td>56.0</td><td>0</td><td>1</td><td>11767</td><td>83.1583</td><td>C50</td><td>C</td><td>7</td><td>null</td><td>Mt Airy, Philadel...</td><td>1</td></tr>\n",
              "<tr><td>446</td><td>2</td><td>&quot;Hocking, Miss. E...</td><td>female</td><td>20.0</td><td>2</td><td>1</td><td>29105</td><td>23.0</td><td>null</td><td>S</td><td>4</td><td>null</td><td>Cornwall / Akron, OH</td><td>1</td></tr>\n",
              "<tr><td>602</td><td>3</td><td>Abbott, Mr. Rossm...</td><td>male</td><td>16.0</td><td>1</td><td>1</td><td>C.A. 2673</td><td>20.25</td><td>null</td><td>S</td><td>null</td><td>190.0</td><td>East Providence, RI</td><td>0</td></tr>\n",
              "<tr><td>884</td><td>3</td><td>Jensen, Mr. Niels...</td><td>male</td><td>48.0</td><td>0</td><td>0</td><td>350047</td><td>7.8542</td><td>null</td><td>S</td><td>null</td><td>null</td><td>null</td><td>0</td></tr>\n",
              "<tr><td>497</td><td>2</td><td>Maybery, Mr. Fran...</td><td>male</td><td>40.0</td><td>0</td><td>0</td><td>239059</td><td>16.0</td><td>null</td><td>S</td><td>null</td><td>null</td><td>Weston-Super-Mare...</td><td>0</td></tr>\n",
              "<tr><td>1003</td><td>3</td><td>McCoy, Mr. Bernard</td><td>male</td><td>null</td><td>2</td><td>0</td><td>367226</td><td>23.25</td><td>null</td><td>Q</td><td>16</td><td>null</td><td>null</td><td>1</td></tr>\n",
              "<tr><td>36</td><td>1</td><td>Bowerman, Miss. E...</td><td>female</td><td>22.0</td><td>0</td><td>1</td><td>113505</td><td>55.0</td><td>E33</td><td>S</td><td>6</td><td>null</td><td>St Leonards-on-Se...</td><td>1</td></tr>\n",
              "<tr><td>1088</td><td>3</td><td>Olsson, Mr. Oscar...</td><td>male</td><td>32.0</td><td>0</td><td>0</td><td>347079</td><td>7.775</td><td>null</td><td>S</td><td>A</td><td>null</td><td>null</td><td>1</td></tr>\n",
              "</table>\n",
              "only showing top 20 rows\n"
            ]
          },
          "metadata": {},
          "execution_count": 8
        }
      ]
    },
    {
      "cell_type": "code",
      "source": [
        "titanic_df.printSchema()"
      ],
      "metadata": {
        "colab": {
          "base_uri": "https://localhost:8080/"
        },
        "id": "LhU-BT8yo_8A",
        "outputId": "d1d617d6-740d-4bae-cc6b-f077a7e286c7"
      },
      "execution_count": 9,
      "outputs": [
        {
          "output_type": "stream",
          "name": "stdout",
          "text": [
            "root\n",
            " |-- passenger_id: integer (nullable = true)\n",
            " |-- pclass: integer (nullable = true)\n",
            " |-- name: string (nullable = true)\n",
            " |-- sex: string (nullable = true)\n",
            " |-- age: double (nullable = true)\n",
            " |-- sibsp: integer (nullable = true)\n",
            " |-- parch: integer (nullable = true)\n",
            " |-- ticket: string (nullable = true)\n",
            " |-- fare: double (nullable = true)\n",
            " |-- cabin: string (nullable = true)\n",
            " |-- embarked: string (nullable = true)\n",
            " |-- boat: string (nullable = true)\n",
            " |-- body: double (nullable = true)\n",
            " |-- home.dest: string (nullable = true)\n",
            " |-- survived: integer (nullable = true)\n",
            "\n"
          ]
        }
      ]
    },
    {
      "cell_type": "code",
      "source": [
        "titanic_df.limit(5)"
      ],
      "metadata": {
        "colab": {
          "base_uri": "https://localhost:8080/",
          "height": 161
        },
        "id": "-0fAnivOpOVU",
        "outputId": "cf414f1e-dc96-4eb8-82c3-8187136e3e34"
      },
      "execution_count": 10,
      "outputs": [
        {
          "output_type": "execute_result",
          "data": {
            "text/plain": [
              "+------------+------+--------------------+------+----+-----+-----+------+------+-----+--------+----+----+--------------------+--------+\n",
              "|passenger_id|pclass|                name|   sex| age|sibsp|parch|ticket|  fare|cabin|embarked|boat|body|           home.dest|survived|\n",
              "+------------+------+--------------------+------+----+-----+-----+------+------+-----+--------+----+----+--------------------+--------+\n",
              "|        1216|     3|  Smyth, Miss. Julia|female|null|    0|    0|335432|7.7333| null|       Q|  13|null|                null|       1|\n",
              "|         699|     3|     Cacic, Mr. Luka|  male|38.0|    0|    0|315089|8.6625| null|       S|null|null|             Croatia|       0|\n",
              "|        1267|     3|Van Impe, Mrs. Je...|female|30.0|    1|    1|345773| 24.15| null|       S|null|null|                null|       0|\n",
              "|         449|     2|Hocking, Mrs. Eli...|female|54.0|    1|    3| 29105|  23.0| null|       S|   4|null|Cornwall / Akron, OH|       1|\n",
              "|         576|     2|     Veal, Mr. James|  male|40.0|    0|    0| 28221|  13.0| null|       S|null|null|Barre, Co Washing...|       0|\n",
              "+------------+------+--------------------+------+----+-----+-----+------+------+-----+--------+----+----+--------------------+--------+"
            ],
            "text/html": [
              "<table border='1'>\n",
              "<tr><th>passenger_id</th><th>pclass</th><th>name</th><th>sex</th><th>age</th><th>sibsp</th><th>parch</th><th>ticket</th><th>fare</th><th>cabin</th><th>embarked</th><th>boat</th><th>body</th><th>home.dest</th><th>survived</th></tr>\n",
              "<tr><td>1216</td><td>3</td><td>Smyth, Miss. Julia</td><td>female</td><td>null</td><td>0</td><td>0</td><td>335432</td><td>7.7333</td><td>null</td><td>Q</td><td>13</td><td>null</td><td>null</td><td>1</td></tr>\n",
              "<tr><td>699</td><td>3</td><td>Cacic, Mr. Luka</td><td>male</td><td>38.0</td><td>0</td><td>0</td><td>315089</td><td>8.6625</td><td>null</td><td>S</td><td>null</td><td>null</td><td>Croatia</td><td>0</td></tr>\n",
              "<tr><td>1267</td><td>3</td><td>Van Impe, Mrs. Je...</td><td>female</td><td>30.0</td><td>1</td><td>1</td><td>345773</td><td>24.15</td><td>null</td><td>S</td><td>null</td><td>null</td><td>null</td><td>0</td></tr>\n",
              "<tr><td>449</td><td>2</td><td>Hocking, Mrs. Eli...</td><td>female</td><td>54.0</td><td>1</td><td>3</td><td>29105</td><td>23.0</td><td>null</td><td>S</td><td>4</td><td>null</td><td>Cornwall / Akron, OH</td><td>1</td></tr>\n",
              "<tr><td>576</td><td>2</td><td>Veal, Mr. James</td><td>male</td><td>40.0</td><td>0</td><td>0</td><td>28221</td><td>13.0</td><td>null</td><td>S</td><td>null</td><td>null</td><td>Barre, Co Washing...</td><td>0</td></tr>\n",
              "</table>\n"
            ]
          },
          "metadata": {},
          "execution_count": 10
        }
      ]
    },
    {
      "cell_type": "code",
      "source": [
        "titanic_df.select(\"passenger_id\", \"survived\").limit(5)"
      ],
      "metadata": {
        "colab": {
          "base_uri": "https://localhost:8080/",
          "height": 161
        },
        "id": "e0M9VDh0pVgc",
        "outputId": "0b40c9ba-8ec4-4f09-82bb-68d9cdb71b81"
      },
      "execution_count": 12,
      "outputs": [
        {
          "output_type": "execute_result",
          "data": {
            "text/plain": [
              "+------------+--------+\n",
              "|passenger_id|survived|\n",
              "+------------+--------+\n",
              "|        1216|       1|\n",
              "|         699|       0|\n",
              "|        1267|       0|\n",
              "|         449|       1|\n",
              "|         576|       0|\n",
              "+------------+--------+"
            ],
            "text/html": [
              "<table border='1'>\n",
              "<tr><th>passenger_id</th><th>survived</th></tr>\n",
              "<tr><td>1216</td><td>1</td></tr>\n",
              "<tr><td>699</td><td>0</td></tr>\n",
              "<tr><td>1267</td><td>0</td></tr>\n",
              "<tr><td>449</td><td>1</td></tr>\n",
              "<tr><td>576</td><td>0</td></tr>\n",
              "</table>\n"
            ]
          },
          "metadata": {},
          "execution_count": 12
        }
      ]
    },
    {
      "cell_type": "code",
      "source": [
        "titanic_df.where((titanic_df.age >= 25) & (titanic_df.survived == 1)).limit(5)"
      ],
      "metadata": {
        "colab": {
          "base_uri": "https://localhost:8080/",
          "height": 161
        },
        "id": "y31tMcEzpldl",
        "outputId": "8330e18e-4aec-46ac-c15b-745e4f335328"
      },
      "execution_count": 14,
      "outputs": [
        {
          "output_type": "execute_result",
          "data": {
            "text/plain": [
              "+------------+------+--------------------+------+----+-----+-----+------+-------+-----+--------+----+----+--------------------+--------+\n",
              "|passenger_id|pclass|                name|   sex| age|sibsp|parch|ticket|   fare|cabin|embarked|boat|body|           home.dest|survived|\n",
              "+------------+------+--------------------+------+----+-----+-----+------+-------+-----+--------+----+----+--------------------+--------+\n",
              "|         449|     2|Hocking, Mrs. Eli...|female|54.0|    1|    3| 29105|   23.0| null|       S|   4|null|Cornwall / Akron, OH|       1|\n",
              "|         560|     2|Sinkkonen, Miss. ...|female|30.0|    0|    0|250648|   13.0| null|       S|  10|null|Finland / Washing...|       1|\n",
              "|          43|     1|Bucknell, Mrs. Wi...|female|60.0|    0|    0| 11813|76.2917|  D15|       C|   8|null|    Philadelphia, PA|       1|\n",
              "|         233|     1|Potter, Mrs. Thom...|female|56.0|    0|    1| 11767|83.1583|  C50|       C|   7|null|Mt Airy, Philadel...|       1|\n",
              "|        1088|     3|Olsson, Mr. Oscar...|  male|32.0|    0|    0|347079|  7.775| null|       S|   A|null|                null|       1|\n",
              "+------------+------+--------------------+------+----+-----+-----+------+-------+-----+--------+----+----+--------------------+--------+"
            ],
            "text/html": [
              "<table border='1'>\n",
              "<tr><th>passenger_id</th><th>pclass</th><th>name</th><th>sex</th><th>age</th><th>sibsp</th><th>parch</th><th>ticket</th><th>fare</th><th>cabin</th><th>embarked</th><th>boat</th><th>body</th><th>home.dest</th><th>survived</th></tr>\n",
              "<tr><td>449</td><td>2</td><td>Hocking, Mrs. Eli...</td><td>female</td><td>54.0</td><td>1</td><td>3</td><td>29105</td><td>23.0</td><td>null</td><td>S</td><td>4</td><td>null</td><td>Cornwall / Akron, OH</td><td>1</td></tr>\n",
              "<tr><td>560</td><td>2</td><td>Sinkkonen, Miss. ...</td><td>female</td><td>30.0</td><td>0</td><td>0</td><td>250648</td><td>13.0</td><td>null</td><td>S</td><td>10</td><td>null</td><td>Finland / Washing...</td><td>1</td></tr>\n",
              "<tr><td>43</td><td>1</td><td>Bucknell, Mrs. Wi...</td><td>female</td><td>60.0</td><td>0</td><td>0</td><td>11813</td><td>76.2917</td><td>D15</td><td>C</td><td>8</td><td>null</td><td>Philadelphia, PA</td><td>1</td></tr>\n",
              "<tr><td>233</td><td>1</td><td>Potter, Mrs. Thom...</td><td>female</td><td>56.0</td><td>0</td><td>1</td><td>11767</td><td>83.1583</td><td>C50</td><td>C</td><td>7</td><td>null</td><td>Mt Airy, Philadel...</td><td>1</td></tr>\n",
              "<tr><td>1088</td><td>3</td><td>Olsson, Mr. Oscar...</td><td>male</td><td>32.0</td><td>0</td><td>0</td><td>347079</td><td>7.775</td><td>null</td><td>S</td><td>A</td><td>null</td><td>null</td><td>1</td></tr>\n",
              "</table>\n"
            ]
          },
          "metadata": {},
          "execution_count": 14
        }
      ]
    },
    {
      "cell_type": "code",
      "source": [
        "titanic_df.select(\"name\",\"sex\").where((titanic_df.age >= 25) & (titanic_df.survived == 1)).limit(5)"
      ],
      "metadata": {
        "colab": {
          "base_uri": "https://localhost:8080/",
          "height": 161
        },
        "id": "uOTohlEZqNOe",
        "outputId": "35e141e4-fb46-4a08-f974-a8dabf60e16f"
      },
      "execution_count": 15,
      "outputs": [
        {
          "output_type": "execute_result",
          "data": {
            "text/plain": [
              "+--------------------+------+\n",
              "|                name|   sex|\n",
              "+--------------------+------+\n",
              "|Hocking, Mrs. Eli...|female|\n",
              "|Sinkkonen, Miss. ...|female|\n",
              "|Bucknell, Mrs. Wi...|female|\n",
              "|Potter, Mrs. Thom...|female|\n",
              "|Olsson, Mr. Oscar...|  male|\n",
              "+--------------------+------+"
            ],
            "text/html": [
              "<table border='1'>\n",
              "<tr><th>name</th><th>sex</th></tr>\n",
              "<tr><td>Hocking, Mrs. Eli...</td><td>female</td></tr>\n",
              "<tr><td>Sinkkonen, Miss. ...</td><td>female</td></tr>\n",
              "<tr><td>Bucknell, Mrs. Wi...</td><td>female</td></tr>\n",
              "<tr><td>Potter, Mrs. Thom...</td><td>female</td></tr>\n",
              "<tr><td>Olsson, Mr. Oscar...</td><td>male</td></tr>\n",
              "</table>\n"
            ]
          },
          "metadata": {},
          "execution_count": 15
        }
      ]
    },
    {
      "cell_type": "code",
      "source": [
        "titanic_df.agg({\"Fare\":\"avg\"})"
      ],
      "metadata": {
        "colab": {
          "base_uri": "https://localhost:8080/",
          "height": 68
        },
        "id": "KGqX3gjxqiJP",
        "outputId": "b5d44e62-b2e5-4654-cc9a-992cd58ae874"
      },
      "execution_count": 16,
      "outputs": [
        {
          "output_type": "execute_result",
          "data": {
            "text/plain": [
              "+------------------+\n",
              "|         avg(Fare)|\n",
              "+------------------+\n",
              "|34.012700942284994|\n",
              "+------------------+"
            ],
            "text/html": [
              "<table border='1'>\n",
              "<tr><th>avg(Fare)</th></tr>\n",
              "<tr><td>34.012700942284994</td></tr>\n",
              "</table>\n"
            ]
          },
          "metadata": {},
          "execution_count": 16
        }
      ]
    },
    {
      "cell_type": "code",
      "source": [
        "titanic_df.groupBy(\"pclass\").agg({\"fare\":\"avg\"}).orderBy(\"pclass\", ascending=False)"
      ],
      "metadata": {
        "colab": {
          "base_uri": "https://localhost:8080/",
          "height": 114
        },
        "id": "Iq3y9LOZqrk6",
        "outputId": "ffbb2f6f-0b47-4c6e-ede2-38596a4ac83c"
      },
      "execution_count": 21,
      "outputs": [
        {
          "output_type": "execute_result",
          "data": {
            "text/plain": [
              "+------+------------------+\n",
              "|pclass|         avg(fare)|\n",
              "+------+------------------+\n",
              "|     3| 13.77492935010483|\n",
              "|     2|21.259914457831325|\n",
              "|     1| 91.15046601941741|\n",
              "+------+------------------+"
            ],
            "text/html": [
              "<table border='1'>\n",
              "<tr><th>pclass</th><th>avg(fare)</th></tr>\n",
              "<tr><td>3</td><td>13.77492935010483</td></tr>\n",
              "<tr><td>2</td><td>21.259914457831325</td></tr>\n",
              "<tr><td>1</td><td>91.15046601941741</td></tr>\n",
              "</table>\n"
            ]
          },
          "metadata": {},
          "execution_count": 21
        }
      ]
    },
    {
      "cell_type": "code",
      "source": [
        "titanic_df.filter(titanic_df.age > 25).agg({\"Fare\":\"avg\"})"
      ],
      "metadata": {
        "colab": {
          "base_uri": "https://localhost:8080/",
          "height": 68
        },
        "id": "PGY0bhhqroiH",
        "outputId": "05ec31a9-3bc5-4ca4-cae2-9ad0301bcc43"
      },
      "execution_count": 27,
      "outputs": [
        {
          "output_type": "execute_result",
          "data": {
            "text/plain": [
              "+-----------------+\n",
              "|        avg(Fare)|\n",
              "+-----------------+\n",
              "|45.22928710526312|\n",
              "+-----------------+"
            ],
            "text/html": [
              "<table border='1'>\n",
              "<tr><th>avg(Fare)</th></tr>\n",
              "<tr><td>45.22928710526312</td></tr>\n",
              "</table>\n"
            ]
          },
          "metadata": {},
          "execution_count": 27
        }
      ]
    },
    {
      "cell_type": "code",
      "source": [
        "from pyspark.sql.types import IntegerType\n",
        "from pyspark.sql.functions import udf\n",
        "\n",
        "def round_float_down(x):\n",
        "  return int(x)\n",
        "\n",
        "round_float_dwn_udf = udf(round_float_down, IntegerType())\n",
        "\n",
        "titanic_df.select('name','fare', round_float_dwn_udf('fare').alias(\"Fare rounded down\")).limit(5)"
      ],
      "metadata": {
        "colab": {
          "base_uri": "https://localhost:8080/",
          "height": 161
        },
        "id": "ik1lL0d3sEdW",
        "outputId": "3fd752b2-393d-411c-bf73-4e07ae2228bc"
      },
      "execution_count": 29,
      "outputs": [
        {
          "output_type": "execute_result",
          "data": {
            "text/plain": [
              "+--------------------+------+-----------------+\n",
              "|                name|  fare|Fare rounded down|\n",
              "+--------------------+------+-----------------+\n",
              "|  Smyth, Miss. Julia|7.7333|                7|\n",
              "|     Cacic, Mr. Luka|8.6625|                8|\n",
              "|Van Impe, Mrs. Je...| 24.15|               24|\n",
              "|Hocking, Mrs. Eli...|  23.0|               23|\n",
              "|     Veal, Mr. James|  13.0|               13|\n",
              "+--------------------+------+-----------------+"
            ],
            "text/html": [
              "<table border='1'>\n",
              "<tr><th>name</th><th>fare</th><th>Fare rounded down</th></tr>\n",
              "<tr><td>Smyth, Miss. Julia</td><td>7.7333</td><td>7</td></tr>\n",
              "<tr><td>Cacic, Mr. Luka</td><td>8.6625</td><td>8</td></tr>\n",
              "<tr><td>Van Impe, Mrs. Je...</td><td>24.15</td><td>24</td></tr>\n",
              "<tr><td>Hocking, Mrs. Eli...</td><td>23.0</td><td>23</td></tr>\n",
              "<tr><td>Veal, Mr. James</td><td>13.0</td><td>13</td></tr>\n",
              "</table>\n"
            ]
          },
          "metadata": {},
          "execution_count": 29
        }
      ]
    },
    {
      "cell_type": "code",
      "source": [
        "titanic_df.createOrReplaceTempView(\"Titanic\")"
      ],
      "metadata": {
        "id": "zy3yxxNku8y3"
      },
      "execution_count": 30,
      "outputs": []
    },
    {
      "cell_type": "code",
      "source": [
        "spark.sql(\"select * from Titanic limit 5\")"
      ],
      "metadata": {
        "colab": {
          "base_uri": "https://localhost:8080/",
          "height": 161
        },
        "id": "M63s2x3-vIYy",
        "outputId": "66fa1e4c-04cf-48df-b6c2-e104587ee334"
      },
      "execution_count": 31,
      "outputs": [
        {
          "output_type": "execute_result",
          "data": {
            "text/plain": [
              "+------------+------+--------------------+------+----+-----+-----+------+------+-----+--------+----+----+--------------------+--------+\n",
              "|passenger_id|pclass|                name|   sex| age|sibsp|parch|ticket|  fare|cabin|embarked|boat|body|           home.dest|survived|\n",
              "+------------+------+--------------------+------+----+-----+-----+------+------+-----+--------+----+----+--------------------+--------+\n",
              "|        1216|     3|  Smyth, Miss. Julia|female|null|    0|    0|335432|7.7333| null|       Q|  13|null|                null|       1|\n",
              "|         699|     3|     Cacic, Mr. Luka|  male|38.0|    0|    0|315089|8.6625| null|       S|null|null|             Croatia|       0|\n",
              "|        1267|     3|Van Impe, Mrs. Je...|female|30.0|    1|    1|345773| 24.15| null|       S|null|null|                null|       0|\n",
              "|         449|     2|Hocking, Mrs. Eli...|female|54.0|    1|    3| 29105|  23.0| null|       S|   4|null|Cornwall / Akron, OH|       1|\n",
              "|         576|     2|     Veal, Mr. James|  male|40.0|    0|    0| 28221|  13.0| null|       S|null|null|Barre, Co Washing...|       0|\n",
              "+------------+------+--------------------+------+----+-----+-----+------+------+-----+--------+----+----+--------------------+--------+"
            ],
            "text/html": [
              "<table border='1'>\n",
              "<tr><th>passenger_id</th><th>pclass</th><th>name</th><th>sex</th><th>age</th><th>sibsp</th><th>parch</th><th>ticket</th><th>fare</th><th>cabin</th><th>embarked</th><th>boat</th><th>body</th><th>home.dest</th><th>survived</th></tr>\n",
              "<tr><td>1216</td><td>3</td><td>Smyth, Miss. Julia</td><td>female</td><td>null</td><td>0</td><td>0</td><td>335432</td><td>7.7333</td><td>null</td><td>Q</td><td>13</td><td>null</td><td>null</td><td>1</td></tr>\n",
              "<tr><td>699</td><td>3</td><td>Cacic, Mr. Luka</td><td>male</td><td>38.0</td><td>0</td><td>0</td><td>315089</td><td>8.6625</td><td>null</td><td>S</td><td>null</td><td>null</td><td>Croatia</td><td>0</td></tr>\n",
              "<tr><td>1267</td><td>3</td><td>Van Impe, Mrs. Je...</td><td>female</td><td>30.0</td><td>1</td><td>1</td><td>345773</td><td>24.15</td><td>null</td><td>S</td><td>null</td><td>null</td><td>null</td><td>0</td></tr>\n",
              "<tr><td>449</td><td>2</td><td>Hocking, Mrs. Eli...</td><td>female</td><td>54.0</td><td>1</td><td>3</td><td>29105</td><td>23.0</td><td>null</td><td>S</td><td>4</td><td>null</td><td>Cornwall / Akron, OH</td><td>1</td></tr>\n",
              "<tr><td>576</td><td>2</td><td>Veal, Mr. James</td><td>male</td><td>40.0</td><td>0</td><td>0</td><td>28221</td><td>13.0</td><td>null</td><td>S</td><td>null</td><td>null</td><td>Barre, Co Washing...</td><td>0</td></tr>\n",
              "</table>\n"
            ]
          },
          "metadata": {},
          "execution_count": 31
        }
      ]
    }
  ]
}